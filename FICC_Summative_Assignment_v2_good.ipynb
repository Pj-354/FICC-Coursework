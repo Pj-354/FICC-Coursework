{
 "cells": [
  {
   "cell_type": "markdown",
   "metadata": {},
   "source": [
    "### FICC Summative\n"
   ]
  },
  {
   "cell_type": "markdown",
   "metadata": {},
   "source": [
    "### Initial Set-Up\n",
    "\n",
    "    1. Reading in Modules\n",
    "    2. Reading in Data\n",
    "    3. Helper Functions\n",
    "        - array2dataframe : converts numpy arrays to dataframes with columns labelled (easier to read)\n",
    "        "
   ]
  },
  {
   "cell_type": "code",
   "execution_count": null,
   "metadata": {},
   "outputs": [],
   "source": [
    "import numpy as np \n",
    "import pandas as pd\n",
    "from scipy.optimize import minimize"
   ]
  },
  {
   "cell_type": "code",
   "execution_count": 2,
   "metadata": {},
   "outputs": [],
   "source": [
    "#Reading in the Yield Curve Data and Processing it a bit\n",
    "excel_file = pd.read_excel('yieldcurve2024 (1).xlsx', index_col= [0])\n",
    "yield_curve = pd.DataFrame(excel_file.iloc[0,:]) / 100\n",
    "r0 = yield_curve['Yield'].to_numpy()[0]\n",
    "rate_vol = 0.0173\n",
    "log_vol = 0.2142\n",
    "dt = 0.5\n"
   ]
  },
  {
   "cell_type": "code",
   "execution_count": 242,
   "metadata": {},
   "outputs": [],
   "source": [
    "def array2dataframe(array):\n",
    "    df = pd.DataFrame(array)\n",
    "    df.index = [j for j in range(0, array.shape[0])]\n",
    "    df.columns = [i for i in range(0, array.shape[1])]\n",
    "    df.columns.name = 'Period: i'\n",
    "    df.index.name = 'State: j'\n",
    "\n",
    "    return df"
   ]
  },
  {
   "cell_type": "code",
   "execution_count": 4,
   "metadata": {},
   "outputs": [],
   "source": [
    "def ZCB_Value_Tree(binomial_tree, dt = dt, par_value = 100, test=False):\n",
    "    ''' \n",
    "    Creates value tree for a normal ZCB bond using a given binomial interest rate tree\n",
    "    '''\n",
    "    periods = binomial_tree.shape[0]\n",
    "\n",
    "    #Create Empty Value Tree\n",
    "    value_tree = np.zeros((periods +1) **2).reshape((periods +1) , (periods +1))   \n",
    "    #Set Final Layer to Par Value\n",
    "    value_tree[:, -1] = par_value\n",
    "\n",
    "    #Backward Induction Loop\n",
    "    for i in reversed(range(0, periods)):\n",
    "        for j in range(0, i+1):\n",
    "            value_tree[j, i] = 0.5 * (value_tree[j, i+1] + value_tree[j+1, i+1]) * np.exp(-binomial_tree[j, i] * dt)\n",
    "\n",
    "    return value_tree"
   ]
  },
  {
   "cell_type": "markdown",
   "metadata": {},
   "source": [
    "# MBS \n",
    "\n",
    "    These functions compute the value of a fixed-rate mortgage.\n",
    "        - mortgage_value_no_prepay : calculates the value of the mortgage without option to prepay\n",
    "        - mortgage_value_prepay : calculates value of prepay option\n",
    "        - amortisation_schedule : calculates the interest paid, total coupon, and principal/outstanding balance for each period"
   ]
  },
  {
   "cell_type": "markdown",
   "metadata": {},
   "source": [
    "## Constructing MBS [20 + 20 Marks]\n"
   ]
  },
  {
   "cell_type": "code",
   "execution_count": 234,
   "metadata": {},
   "outputs": [],
   "source": [
    "#Chapter 4 Mortgage Example\n",
    "BDT_Tree_Jan31 = pd.read_csv('Jan31_2000_BDT.csv', index_col = [0]) / 100\n",
    "BDT_Tree_Jan31 = BDT_Tree_Jan31.to_numpy()\n",
    "#mortgage_value_no_prepay(periods = 10, rate = 0.07564, binomial_tree=BDT_Tree_Jan31)\n",
    "#mortgage_value_prepay(periods = 10, rate = 0.07564, binomial_tree=BDT_Tree_Jan31)"
   ]
  },
  {
   "cell_type": "code",
   "execution_count": 147,
   "metadata": {},
   "outputs": [],
   "source": [
    "Principal = 100000 \n",
    "rates = np.array([i for i in range(40, 120)]) / 1000\n",
    "par = {}"
   ]
  },
  {
   "cell_type": "code",
   "execution_count": 198,
   "metadata": {},
   "outputs": [
    {
     "name": "stdout",
     "output_type": "stream",
     "text": [
      "100000.0\n"
     ]
    },
    {
     "data": {
      "text/plain": [
       "np.float64(100000.0)"
      ]
     },
     "execution_count": 198,
     "metadata": {},
     "output_type": "execute_result"
    }
   ],
   "source": [
    "# Ho-Lee Model : Par Value\n",
    "for rate in rates:\n",
    "    par[rate] = (mortgage_value_no_prepay(periods = 20, rate = rate, binomial_tree=Ho_Lee_Tree)[0])[0,0] - (mortgage_value_prepay(rate = rate, periods = 20, binomial_tree = Ho_Lee_Tree))[0,0]\n",
    "print(par[0.108])\n",
    "\n",
    "rate_HL_par = 0.108\n",
    "V_np = (mortgage_value_no_prepay(periods = 20, rate = rate_HL_par, binomial_tree=Ho_Lee_Tree)[0])[0,0]\n",
    "V_p = (mortgage_value_prepay(rate = rate_HL_par, periods = 20, binomial_tree = Ho_Lee_Tree))[0,0]\n",
    "V_np - V_p"
   ]
  },
  {
   "cell_type": "code",
   "execution_count": 199,
   "metadata": {},
   "outputs": [
    {
     "name": "stdout",
     "output_type": "stream",
     "text": [
      "100000.0\n"
     ]
    },
    {
     "data": {
      "text/plain": [
       "np.float64(100000.0)"
      ]
     },
     "execution_count": 199,
     "metadata": {},
     "output_type": "execute_result"
    }
   ],
   "source": [
    "#BDT Model : Par Value\n",
    "\n",
    "par_BDT = {}\n",
    "for rate in rates:\n",
    "    par_BDT[rate] = mortgage_value_no_prepay(periods = 20, rate = rate, binomial_tree = BDT_Tree)[0][0,0] - mortgage_value_prepay(rate = rate, periods = 20, binomial_tree=BDT_Tree)[0,0]\n",
    "\n",
    "print(par_BDT[0.05])\n",
    "rate_BDT_par = 0.05  #5% fixed rate\n",
    "V_np = mortgage_value_no_prepay(periods = 20, rate = rate_BDT_par, binomial_tree = BDT_Tree)[0][0,0]\n",
    "V_p = mortgage_value_prepay(rate = rate_BDT_par, periods = 20, binomial_tree=BDT_Tree)[0,0]\n",
    "V_np - V_p"
   ]
  },
  {
   "cell_type": "markdown",
   "metadata": {},
   "source": [
    "### Question B\n",
    "Ho-Lee model's normal distribution, presence of negative interest rates, and smaller probability allocated to higher interest rate states differs from the log-normal, strictly non-negative, and higher interest-rate titled Simple BDT model\n",
    "\n",
    "Because mortgage prepayment embeds an element of optionality into the security, there is an asymmetric payoff structure that will result in differences when comparing the two models. Simple BDT offers a higher price - intuitively, because lower interest rate environments\n",
    "\n",
    "BDT Model gives a 5% fixed rate that yields par whereas Ho-Lee model requires a higher fixed rate of 10.8%."
   ]
  },
  {
   "cell_type": "markdown",
   "metadata": {},
   "source": [
    "## Question C Fair Valuation of PTS via HL/BDT [20 Marks]"
   ]
  },
  {
   "cell_type": "code",
   "execution_count": 200,
   "metadata": {},
   "outputs": [],
   "source": [
    "\n",
    "\n",
    "#Mortgage without Prepayment Option\n",
    "def mortgage_value_no_prepay(rate, dt = dt, periods= 20, principal = Principal, binomial_tree=Ho_Lee_Tree):\n",
    "    ''' \n",
    "    Pricing Mortgage under HL model => assumes optimal prepayment policy. Use\n",
    "    optimiser/fsolve-based strategy to find the payment rate that gives par/principal\n",
    "    '''\n",
    "    interest_paid, principal_paid, outstanding_principal, coupon = mortgage_amortisation_schedule(rate = rate, N = periods, principal = Principal)\n",
    "    mortgage_tree_no_prepay = np.zeros([periods+1, periods+1])\n",
    "    mortgage_tree_no_prepay[:, -1] = 0\n",
    "    \n",
    "    for i in reversed(range(0, periods)):\n",
    "        for j in range(0, i + 1):\n",
    "            mortgage_tree_no_prepay[j, i] = (coupon + 0.5 *(mortgage_tree_no_prepay[j , i + 1] + mortgage_tree_no_prepay[j+1, i+1])) * np.exp(-binomial_tree[j, i] * dt)\n",
    "\n",
    "    \n",
    "    return mortgage_tree_no_prepay, interest_paid, principal_paid, outstanding_principal, coupon\n",
    "\n",
    "def mortgage_value_prepay(rate, dt = dt, periods = 20, principal = Principal, binomial_tree=Ho_Lee_Tree):\n",
    "\n",
    "    mortgage_tree_no_prepay, interest_paid, principal_paid, outstanding_principal, coupon = mortgage_value_no_prepay(rate = rate, dt = dt, periods = periods, principal = principal, binomial_tree=binomial_tree)\n",
    "    Mortgage_Tree_With_Prepay = np.zeros([periods, periods])\n",
    "    for i in reversed(range(0, periods)):\n",
    "        for j in range(0, i + 1):\n",
    "            if i == periods -1:\n",
    "                Value_Wait = (0.5 *(mortgage_tree_no_prepay[j , i + 1] + mortgage_tree_no_prepay[j+1, i+1])) * np.exp(-binomial_tree[j, i] * dt)\n",
    "                Value_Exercise = np.maximum(0, mortgage_tree_no_prepay[j,i] - outstanding_principal[i])\n",
    "            if i != periods-1:\n",
    "                Value_Wait = (0.5 *(Mortgage_Tree_With_Prepay[j , i + 1] + Mortgage_Tree_With_Prepay[j+1, i+1])) * np.exp(-binomial_tree[j, i] * dt)\n",
    "                Value_Exercise = np.maximum(0, mortgage_tree_no_prepay[j,i] - outstanding_principal[i])\n",
    "            if Value_Exercise - Value_Wait > 0:\n",
    "                Mortgage_Tree_With_Prepay[j,i] = np.maximum(Value_Exercise, Value_Wait)\n",
    "            else:\n",
    "                Mortgage_Tree_With_Prepay[j,i] = Value_Wait\n",
    "            \n",
    "    return Mortgage_Tree_With_Prepay\n"
   ]
  },
  {
   "cell_type": "code",
   "execution_count": 194,
   "metadata": {},
   "outputs": [],
   "source": [
    "def mortgage_amortisation_schedule(rate, N = 20, principal = Principal):\n",
    "    \n",
    "    periods = np.array([i for i in range(1,N+1)])\n",
    "    total_coupon = principal / np.sum(1/(1 + rate/2)**periods)\n",
    "\n",
    "    outstanding_balance = np.zeros(N+1) #Starts at i = 0\n",
    "    outstanding_balance[0] = principal\n",
    "    interest_payment_schedule = np.zeros(N) #Starts at i = 1\n",
    "    principal_payment_schedule = np.zeros(N) #Starts at i = 1\n",
    "    \n",
    "    for i in range(N):\n",
    "        interest_payment = outstanding_balance[i] * rate / 2\n",
    "        interest_payment_schedule[i] = interest_payment\n",
    "        \n",
    "        principal_payment = total_coupon - interest_payment\n",
    "        outstanding_balance[i+1] = outstanding_balance[i] - principal_payment\n",
    "        principal_payment_schedule[i] =principal_payment\n",
    "    \n",
    "    return interest_payment_schedule, principal_payment_schedule, outstanding_balance, total_coupon"
   ]
  },
  {
   "cell_type": "markdown",
   "metadata": {},
   "source": [
    "### Pass Through Securities"
   ]
  },
  {
   "cell_type": "code",
   "execution_count": 165,
   "metadata": {},
   "outputs": [],
   "source": [
    "pass_through_rate_BDT = rate_BDT_par - 0.005\n",
    "pass_through_rate_HL = rate_HL_par - 0.005"
   ]
  },
  {
   "cell_type": "code",
   "execution_count": 201,
   "metadata": {},
   "outputs": [],
   "source": [
    "def PTS_mortgage_amortisation_schedule(rate, pass_through_rate, N = 20, principal = Principal):\n",
    "    \n",
    "    periods = np.array([i for i in range(1,N+1)])\n",
    "    total_coupon = principal / np.sum(1/(1 + rate/2)**periods)\n",
    "\n",
    "    outstanding_balance = np.zeros(N+1) #Starts at i = 0\n",
    "    outstanding_balance[0] = principal\n",
    "    interest_payment_schedule = np.zeros(N) #Starts at i = 1\n",
    "    interest_payment_schedule_pass_through = np.zeros(N)\n",
    "    principal_payment_schedule = np.zeros(N) #Starts at i = 1\n",
    "    \n",
    "    for i in range(N):\n",
    "        interest_payment_pass_through = outstanding_balance[i] * pass_through_rate/2\n",
    "        interest_payment_schedule_pass_through[i] = interest_payment_pass_through\n",
    "        interest_payment = outstanding_balance[i] * rate / 2\n",
    "        interest_payment_schedule[i] = interest_payment\n",
    "        \n",
    "        principal_payment = total_coupon - interest_payment\n",
    "        outstanding_balance[i+1] = outstanding_balance[i] - principal_payment\n",
    "        principal_payment_schedule[i] =principal_payment\n",
    "    \n",
    "    return interest_payment_schedule_pass_through, principal_payment_schedule, outstanding_balance, total_coupon\n"
   ]
  },
  {
   "cell_type": "code",
   "execution_count": 228,
   "metadata": {},
   "outputs": [],
   "source": [
    "def PTS_Value_Tree(rate, pass_through_rate, dt = dt, periods = 20, principal = Principal, binomial_tree=Ho_Lee_Tree):\n",
    "    \n",
    "    #Read in PTS amortisation schedule\n",
    "    interest_schedule, principal_schedule, outstanding_principal, coupon = PTS_mortgage_amortisation_schedule(rate = \n",
    "        rate, pass_through_rate=pass_through_rate, N = periods, principal = Principal)\n",
    "\n",
    "    #Read in Mortgage Tree with no Option to prep\n",
    "\n",
    "    PTS_Tree = np.zeros([periods+1, periods+1])\n",
    "    for i in reversed(range(0, periods)):\n",
    "        for j in range(0, i + 1):\n",
    "            #print('i:', i, principal_schedule[i], outstanding_principal[i], interest_schedule[i])\n",
    "            Value_Wait = (0.5 *(PTS_Tree[j , i + 1] + PTS_Tree[j+1, i+1]) + interest_schedule[i] + principal_schedule[i]) * np.exp(-binomial_tree[j, i] * dt)\n",
    "            PTS_Tree[j,i] = np.minimum(outstanding_principal[i], Value_Wait)\n",
    "            \n",
    "    return PTS_Tree\n",
    "\n",
    "#Test\n",
    "#array2dataframe(PTS_Value_Tree(rate = 0.07564, pass_through_rate=0.07, periods = 10, binomial_tree=BDT_Tree_Jan31))"
   ]
  },
  {
   "cell_type": "code",
   "execution_count": null,
   "metadata": {},
   "outputs": [
    {
     "data": {
      "text/plain": [
       "(np.float64(99391.55342276017), np.float64(99358.86014717523))"
      ]
     },
     "execution_count": 233,
     "metadata": {},
     "output_type": "execute_result"
    }
   ],
   "source": [
    "''' \n",
    "Pricing using HL and BDT produces very similar result. If the notional was $100,000 the difference is under $10\n",
    "    => HL Model : $99,391.50\n",
    "    => BDT Model : $99,358.90\n",
    "'''\n",
    "HL_PTS_Pricing = PTS_Value_Tree(rate = rate_HL_par, pass_through_rate=pass_through_rate_HL, periods = 20, binomial_tree=Ho_Lee_Tree)[0,0]\n",
    "BDT_PTS_Pricing = PTS_Value_Tree(rate = rate_BDT_par, pass_through_rate=pass_through_rate_BDT, periods = 20, binomial_tree=BDT_Tree )[0,0]\n",
    "HL_PTS_Pricing, BDT_PTS_Pricing"
   ]
  },
  {
   "cell_type": "markdown",
   "metadata": {},
   "source": [
    "# Building RN Trees"
   ]
  },
  {
   "cell_type": "code",
   "execution_count": 10,
   "metadata": {},
   "outputs": [],
   "source": [
    "def Building_Tree(theta,\n",
    "                  number_of_periods = yield_curve['Yield'].to_numpy().shape[0],\n",
    "                  r0 = r0,\n",
    "                  volatility = rate_vol,\n",
    "                  dt = dt):\n",
    "\n",
    " \n",
    " #Creating Binomial Tree of length i, height i \n",
    " binomial_tree = np.zeros((number_of_periods , number_of_periods))\n",
    " binomial_tree[np.triu_indices(number_of_periods, 0)] = r0\n",
    " \n",
    " #Apply Ho-Lee\n",
    " for i in range(1, number_of_periods): #Time steps from i = 1,2, ... N-1\n",
    "      for j in range(i + 1):      #States from 0 to i \n",
    "            if j == 0:\n",
    "                previous_rate = binomial_tree[j, i-1]\n",
    "                binomial_tree[j , i] = previous_rate + theta[i-1]*dt + volatility*np.sqrt(dt)\n",
    "            else:\n",
    "                previous_rate = binomial_tree[j-1, i-1]\n",
    "                binomial_tree[j, i] = previous_rate + theta[i-1]*dt - volatility*np.sqrt(dt)\n",
    "\n",
    " return binomial_tree"
   ]
  },
  {
   "cell_type": "code",
   "execution_count": 11,
   "metadata": {},
   "outputs": [],
   "source": [
    "def Building_Tree_HL_BDT(theta, pricing_model = 'BDT',\n",
    "                  number_of_periods = yield_curve['Yield'].to_numpy().shape[0],\n",
    "                  r0 = r0,\n",
    "                  volatility = log_vol,\n",
    "                  dt = dt):\n",
    "\n",
    " \n",
    " #Creating Binomial Tree of length i, height i \n",
    " binomial_tree = np.zeros((number_of_periods , number_of_periods))\n",
    " binomial_tree[np.triu_indices(number_of_periods, 0)] = r0\n",
    " \n",
    " if pricing_model == 'HL':\n",
    "        for i in range(1, number_of_periods): #Time steps from i = 1,2, ... N-1\n",
    "            for j in range(i + 1):      #States from 0 to i \n",
    "                if j == 0:\n",
    "                    previous_rate = binomial_tree[j, i-1]\n",
    "                    binomial_tree[j , i] = previous_rate + theta[i-1]*dt + volatility*np.sqrt(dt)\n",
    "                else:\n",
    "                    previous_rate = binomial_tree[j-1, i-1]\n",
    "                    binomial_tree[j, i] = previous_rate + theta[i-1]*dt - volatility*np.sqrt(dt)\n",
    "        return binomial_tree\n",
    " if pricing_model == 'BDT':\n",
    "        binomial_tree[0,0] = np.log(r0)  #Initial interest rate is the log of r0\n",
    "        for i in range(1, number_of_periods): #Same Logic as HL Tree\n",
    "            for j in range(i + 1):\n",
    "                if j == 0:\n",
    "                    previous_rate = binomial_tree[j, i -1]\n",
    "                    binomial_tree[j,i] = previous_rate + theta[i-1] * dt + volatility*np.sqrt(dt)\n",
    "                else:\n",
    "                    previous_rate = binomial_tree[j-1, i-1]\n",
    "                    binomial_tree[j,i] = previous_rate + theta[i-1]*dt - volatility*np.sqrt(dt)\n",
    "        binomial_tree = np.exp(binomial_tree)\n",
    "        return np.triu(binomial_tree)\n",
    "\n"
   ]
  },
  {
   "cell_type": "code",
   "execution_count": 12,
   "metadata": {},
   "outputs": [],
   "source": [
    "def ZCB(yield_curve=yield_curve['Yield'].to_numpy(), dt = dt, periods = 50):\n",
    "     \n",
    "    ZCB_prices = np.zeros(periods)\n",
    "    \n",
    "    for i in range(periods):\n",
    "        discount_factor = np.exp( - yield_curve[i] * (dt*(i+1)))\n",
    "        ZCB_prices[i] = 100.00 * discount_factor\n",
    "    \n",
    "    return ZCB_prices\n",
    "\n",
    "ZCB_Prices = ZCB()\n"
   ]
  },
  {
   "cell_type": "code",
   "execution_count": null,
   "metadata": {},
   "outputs": [
    {
     "data": {
      "text/plain": [
       "np.float64(0.017806718377057298)"
      ]
     },
     "execution_count": 28,
     "metadata": {},
     "output_type": "execute_result"
    }
   ],
   "source": [
    "def ZCB_Pricing(binomial_tree, dt = dt, par_value = 100, test=False):\n",
    "    ''' \n",
    "    To calibrate Ho-Lee model, we use backward induction to calculate the price of ZCB bonds.\n",
    "    This function will be passed through to an optimiser, we can minimise some loss function by comparing this to the true observed\n",
    "    ZCB prices. This function manually sets the final layer based on the payoff\n",
    "\n",
    "    Risk neutral probabilities uses q = 0.5\n",
    "    Parameters :\n",
    "        1. binomial_tree : Takes in binomial tree from Error Function => Saves time for optimisation\n",
    "                - Binomial Tree is number of periods x number of periods (includes i = 0)\n",
    "                - Value tree should have same dimensions but last period (i = maturity) is pay off\n",
    "        2. theta : theta vector\n",
    "        3. dt : set to 0.5 years\n",
    "        4. par value : $100 ZCB \n",
    "    ----------\n",
    "    Returns ZCB_price : present value of cash flows e.g., price of ZCB bond at t = 0\n",
    "    \n",
    "    '''\n",
    "\n",
    "    Model_Prices = []    \n",
    "\n",
    "    \n",
    "    for _maturity in reversed(range(0, binomial_tree.shape[0])): #Loops through each maturity (starts at N - 1)\n",
    "        #Create Value Tree and set last row to $100\n",
    "        value_tree = np.zeros((_maturity +1) **2).reshape((_maturity +1) , (_maturity +1))                            \n",
    "        #Sets penultimate node for each maturity\n",
    "        a = binomial_tree[:, _maturity]\n",
    "        a = a[a != 0]\n",
    "        value_tree[:,-1] = par_value * np.exp(-a * dt)                      \n",
    "        #Backward Induction : start from final node, go backwards to i = 0 period\n",
    "        for i in range(_maturity-1, -1, -1):\n",
    "\n",
    "            #Only goes up to when i = j (diagonal)\n",
    "            for j in range(i+1): \n",
    "                #Discounted Expected Value of the bond at time i\n",
    "                value_tree[j, i] = 0.5 * (value_tree[j, i+1] + value_tree[j+1, i+1]) * np.exp(-binomial_tree[j, i] * dt)\n",
    "\n",
    "        Model_Prices.append(value_tree[0,0])\n",
    "\n",
    "    Model_Prices.sort(reverse=True)\n",
    "    return (Model_Prices)"
   ]
  },
  {
   "cell_type": "code",
   "execution_count": 53,
   "metadata": {},
   "outputs": [],
   "source": [
    "def Ho_Lee_Model_LossFunction(theta, periods, r0 = r0, volatility = rate_vol, dt = dt, \n",
    "                              yield_curve = yield_curve['Yield'].to_numpy()):\n",
    "    '''  \n",
    "    This calculates the error function between the Ho-lee model (using initial theta values that \n",
    "    are basically random values) and the actual observed ZCB prices calculated from ZCB() function.\n",
    "\n",
    "    The idea is to use this function in tandem with an optimiser that will fit the theta values by\n",
    "    minimising this loss function.\n",
    "\n",
    "    Not the most computationally efficient method but shows the information flow well.\n",
    "\n",
    "    Loss function used is MSE.\n",
    "    Uses the short-rate at time = 0 as an initial value (r0)\n",
    "    '''\n",
    "\n",
    "    #Get all the ZCB Prices that we are fitting to\n",
    "    ZCB_observed = ZCB(yield_curve=yield_curve, periods = periods) \n",
    "    binomial_tree = Building_Tree(theta = theta, number_of_periods=periods, r0 = r0)\n",
    "\n",
    "    target_model_price = ZCB_Pricing(binomial_tree = binomial_tree)\n",
    "    Error_SSE = ((target_model_price - ZCB_observed) ** 2).sum()\n",
    "    \n",
    "    return Error_SSE\n",
    "\n",
    "def calibration_HL(yield_curve = yield_curve['Yield'].to_numpy(), periods = 50, sigma = rate_vol, dt = dt, r0 = yield_curve['Yield'].iloc[0]):\n",
    "    ''' \n",
    "    argmin theta vector of norm-2 errors \n",
    "\n",
    "    '''\n",
    "    initial_guess_theta = np.zeros(periods-1) * 0.01\n",
    "\n",
    "    #objective function \n",
    "    def objective_function(theta):\n",
    "        return Ho_Lee_Model_LossFunction(theta=theta, periods = periods, r0 = r0, yield_curve=yield_curve)\n",
    "    \n",
    "    result = minimize(objective_function, initial_guess_theta, method = 'BFGS',\n",
    "                      options={\n",
    "                          'maxiter': 500,\n",
    "                          'disp': True\n",
    "                      })\n",
    "    print(result.success, result.message)\n",
    "\n",
    "    theta_calibrated = result.x\n",
    "\n",
    "    return theta_calibrated, result\n"
   ]
  },
  {
   "cell_type": "code",
   "execution_count": 60,
   "metadata": {},
   "outputs": [],
   "source": [
    "def BDT_Model_LossFunction(theta, periods, r0 = r0, volatility = log_vol, dt = dt, \n",
    "                              yield_curve = yield_curve['Yield']):\n",
    "    '''  \n",
    "    This calculates the error function between the Ho-lee model (using initial theta values that \n",
    "    are basically random values) and the actual observed ZCB prices calculated from ZCB() function.\n",
    "\n",
    "    The idea is to use this function in tandem with an optimiser that will fit the theta values by\n",
    "    minimising this loss function.\n",
    "\n",
    "    Not the most computationally efficient method but shows the information flow well.\n",
    "\n",
    "    Loss function used is MSE.\n",
    "    Uses the short-rate at time = 0 as an initial value (r0)\n",
    "    '''\n",
    "\n",
    "    #Get all the ZCB Prices that we are fitting to\n",
    "    ZCB_observed = ZCB(yield_curve=yield_curve, periods = periods) \n",
    "    binomial_tree = Building_Tree_HL_BDT(theta=theta, r0 = r0, number_of_periods=periods, volatility = volatility, pricing_model='BDT')\n",
    "\n",
    "    target_model_price = ZCB_Pricing(binomial_tree = binomial_tree)\n",
    "    Error_SSE = ((target_model_price - ZCB_observed) ** 2).sum()\n",
    "    \n",
    "    return Error_SSE\n",
    "\n",
    "def calibration_BDT(yield_curve = yield_curve['Yield'], periods = 50, sigma = log_vol, dt = dt, r0 = yield_curve['Yield'].iloc[0]):\n",
    "    ''' \n",
    "    argmin theta vector of norm-2 errors \n",
    "\n",
    "    '''\n",
    "    initial_guess_theta = np.zeros(periods-1) * 0.01\n",
    "\n",
    "    #objective function \n",
    "    def objective_function(theta):\n",
    "        return BDT_Model_LossFunction(theta=theta, periods = periods, r0 = r0, yield_curve=yield_curve)\n",
    "    \n",
    "    result = minimize(objective_function, initial_guess_theta, method = 'BFGS')\n",
    "    print(result.success, result.message)\n",
    "\n",
    "    theta_calibrated = result.x\n",
    "\n",
    "    return theta_calibrated, result"
   ]
  },
  {
   "cell_type": "markdown",
   "metadata": {},
   "source": [
    "## Ho Lee & BDT Interest Rate Models"
   ]
  },
  {
   "cell_type": "markdown",
   "metadata": {},
   "source": [
    "### Ho-Lee Calibration"
   ]
  },
  {
   "cell_type": "code",
   "execution_count": 73,
   "metadata": {},
   "outputs": [
    {
     "data": {
      "text/plain": [
       "np.float64(9.719958022313287e-10)"
      ]
     },
     "execution_count": 73,
     "metadata": {},
     "output_type": "execute_result"
    }
   ],
   "source": [
    "''' \n",
    "Ho-Lee Model Calibration results give us this array of theta values. As we can see, the loss function is on the e-\n",
    "\n",
    "'''\n",
    "HL_Thetas_Calibrated = [ 8.42874543e-01, -1.50297530e+00,  4.99974155e-01, -1.42676498e-01,\n",
    "        2.87073443e-01,  2.26725818e-05,  1.43172295e-01,  2.14521037e-01,\n",
    "        3.14714143e-02, -6.10380103e-01, -4.32430837e-01,  5.20117962e-01,\n",
    "        2.85466943e-01,  3.12015500e-01, -2.82835803e-01, -6.28087225e-01,\n",
    "        3.18260602e-01, -2.84991000e-01,  1.28275638e+00, -5.81895399e-01,\n",
    "       -8.21348439e-01, -1.15600909e-01,  1.80214570e+00, -1.43170735e+00,\n",
    "        9.20839288e-01, -1.25321480e+00,  4.26731248e-01,  6.72876663e-01,\n",
    "        4.11822012e-01, -1.65123213e+00,  1.89571143e+00, -1.22074352e+00,\n",
    "        2.41200389e-01,  1.52544027e-01, -3.68912415e-01, -4.77569409e-01,\n",
    "       -1.56273688e-02,  1.22951569e+00, -2.51743077e-01, -1.26980148e+00,\n",
    "        8.01939905e-01,  2.63279903e-01, -8.67795571e-02,  5.65960174e-01,\n",
    "       -1.10450062e+00, -1.83961304e-01,  2.53176489e-01,  5.89514740e-01,\n",
    "        1.77451925e-01]\n",
    "#Build Tree\n",
    "Ho_Lee_Tree = (Building_Tree(theta = HL_Calibrated_thetas, number_of_periods=50, r0 = r0))\n",
    "\n",
    "\n",
    "#Check Loss Function of HL-Calibrated ZCB Prices\n",
    "Ho_Lee_Model_LossFunction(theta = HL_Thetas_Calibrated, periods = 50, r0 = r0)\n"
   ]
  },
  {
   "cell_type": "code",
   "execution_count": null,
   "metadata": {},
   "outputs": [],
   "source": [
    "HL_Calibrated_thetas, HL_Calibration_results = calibration_HL()"
   ]
  },
  {
   "cell_type": "markdown",
   "metadata": {},
   "source": [
    "### Simple BDT Calibration"
   ]
  },
  {
   "cell_type": "code",
   "execution_count": 68,
   "metadata": {},
   "outputs": [
    {
     "data": {
      "text/plain": [
       "np.float64(2.8324822955410087e-11)"
      ]
     },
     "execution_count": 68,
     "metadata": {},
     "output_type": "execute_result"
    }
   ],
   "source": [
    "'''\n",
    "Calibration of BDT Tree returns the below theta values. The error function also shows a good fit with an MSE on order of magnitude of ...\n",
    "'''\n",
    "BDT_Tree = Building_Tree_HL_BDT(theta = BDT_Calibrated_Thetas, pricing_model='BDT', number_of_periods=50, r0 = r0)\n",
    "\n",
    "BDT_Model_LossFunction(theta=BDT_Calibrated_Thetas, periods = 50, r0 = r0, yield_curve=yield_curve['Yield'].to_numpy())"
   ]
  },
  {
   "cell_type": "code",
   "execution_count": 64,
   "metadata": {},
   "outputs": [
    {
     "data": {
      "text/plain": [
       "  message: Optimization terminated successfully.\n",
       "  success: True\n",
       "   status: 0\n",
       "      fun: 2.4509054610033418e-11\n",
       "        x: [-3.517e-01 -1.297e-01 ...  2.130e-02 -2.524e-01]\n",
       "      nit: 68\n",
       "      jac: [ 3.669e-06  3.852e-06 ...  2.620e-07  2.278e-07]\n",
       " hess_inv: [[ 3.866e-01 -8.171e-01 ... -1.626e-02  4.823e-03]\n",
       "            [-8.171e-01  2.087e+00 ...  7.501e-02  6.368e-03]\n",
       "            ...\n",
       "            [-1.626e-02  7.501e-02 ...  1.268e+01 -9.426e+00]\n",
       "            [ 4.823e-03  6.368e-03 ... -9.426e+00  1.198e+01]]\n",
       "     nfev: 3950\n",
       "     njev: 79"
      ]
     },
     "execution_count": 64,
     "metadata": {},
     "output_type": "execute_result"
    }
   ],
   "source": [
    "BDT_Calibrated_Thetas = [-0.35166895, -0.12973433, -0.04314289, -0.01995331, -0.01908645,\n",
    "       -0.023834  , -0.05145382,  0.0006386 ,  0.01834071, -0.02568041,\n",
    "       -0.0248346 ,  0.04874259, -0.01129887,  0.07052889,  0.00182588,\n",
    "        0.00292366,  0.00402355,  0.00514153,  0.10679238, -0.0870087 ,\n",
    "        0.11756801, -0.09304293,  0.12812763, -0.0988221 ,  0.13846138,\n",
    "       -0.10437622,  0.14856368, -0.1097322 ,  0.01768505,  0.01877134,\n",
    "        0.01985832,  0.02092173,  0.02197149,  0.02299795, -0.15372942,\n",
    "        0.19492528,  0.02599841, -0.16412195,  0.01490003,  0.21619626,\n",
    "       -0.17494786,  0.01720672,  0.01795217,  0.0186364 ,  0.01934527,\n",
    "        0.02001716,  0.02066254,  0.02130269, -0.2523553 ]\n",
    "BDT_Results"
   ]
  },
  {
   "cell_type": "code",
   "execution_count": 61,
   "metadata": {},
   "outputs": [
    {
     "name": "stdout",
     "output_type": "stream",
     "text": [
      "True Optimization terminated successfully.\n"
     ]
    }
   ],
   "source": [
    "BDT_Calibrated_Thetas, BDT_Results = calibration_BDT(yield_curve=yield_curve['Yield'].to_numpy(), periods = 50, sigma = log_vol, r0 = r0)"
   ]
  },
  {
   "cell_type": "markdown",
   "metadata": {},
   "source": [
    "## Testing (based on Veronsi 2011)\n"
   ]
  },
  {
   "cell_type": "code",
   "execution_count": 29,
   "metadata": {},
   "outputs": [],
   "source": [
    "test_maturity = [i * 0.5 for i in range(1,12)]\n",
    "test_price = [99.1338, 97.8925, 96.1462, 94.1011, 91.7136, 89.2258, 86.8142, 84.5016, 82.1848, 79.7718, 77.4339]\n",
    "test_yields = [1.74, 2.13, 2.62, 3.04, 3.46, 3.80, 4.04, 4.21, 4.36, 4.52, 4.65]\n",
    "test_yields = np.array(test_yields) / 100\n",
    "\n",
    "HL_thetas_Veronsi = [0.015675, 0.021824, 0.014374, 0.017324, 0.007873, 0.000423, -0.000628, 0.004322, 0.009271, 0.001202]\n",
    "BDT_thetas_Veronsi = [0.7182, 0.6916, 0.3348, 0.3379, 0.1182, -0.0230, -0.0438, 0.0455, 0.1281, -0.0126]"
   ]
  },
  {
   "cell_type": "markdown",
   "metadata": {},
   "source": [
    "### Ho Lee & BDT Testing"
   ]
  },
  {
   "cell_type": "code",
   "execution_count": 30,
   "metadata": {},
   "outputs": [
    {
     "data": {
      "text/plain": [
       "[np.float64(99.13377354877926),\n",
       " np.float64(97.8925199386555),\n",
       " np.float64(96.1462252342918),\n",
       " np.float64(94.10115336419449),\n",
       " np.float64(91.71356656896344),\n",
       " np.float64(89.22581300642932),\n",
       " np.float64(86.81421561300095),\n",
       " np.float64(84.50159655485554),\n",
       " np.float64(82.1847992420609),\n",
       " np.float64(79.77181542525089),\n",
       " np.float64(77.43389845384934)]"
      ]
     },
     "execution_count": 30,
     "metadata": {},
     "output_type": "execute_result"
    }
   ],
   "source": [
    "#The ZCB prices on Jan 8 2002 yields by HL model is calibrated\n",
    "ZCB_Pricing(binomial_tree=\n",
    "            Building_Tree_HL_BDT(theta = HL_thetas_Veronsi, r0 = 0.0174, number_of_periods=11,\n",
    "                                 pricing_model='HL', volatility=rate_vol))"
   ]
  },
  {
   "cell_type": "code",
   "execution_count": 31,
   "metadata": {},
   "outputs": [
    {
     "data": {
      "text/plain": [
       "[np.float64(99.13377354877926),\n",
       " np.float64(97.89251115240728),\n",
       " np.float64(96.14619487906887),\n",
       " np.float64(94.10112103555397),\n",
       " np.float64(91.71356114129568),\n",
       " np.float64(89.22581444604727),\n",
       " np.float64(86.8142650682546),\n",
       " np.float64(84.50169495072147),\n",
       " np.float64(82.18495319871649),\n",
       " np.float64(79.77198342904671),\n",
       " np.float64(77.43406589895683)]"
      ]
     },
     "execution_count": 31,
     "metadata": {},
     "output_type": "execute_result"
    }
   ],
   "source": [
    "#Same for BDT\n",
    "ZCB_Pricing(binomial_tree=\n",
    "            Building_Tree_HL_BDT(theta = BDT_thetas_Veronsi, r0 = 0.0174, number_of_periods=11,\n",
    "                                 pricing_model='BDT', volatility=log_vol))"
   ]
  },
  {
   "cell_type": "code",
   "execution_count": 34,
   "metadata": {},
   "outputs": [
    {
     "name": "stdout",
     "output_type": "stream",
     "text": [
      "Optimization terminated successfully.\n",
      "         Current function value: 0.000000\n",
      "         Iterations: 17\n",
      "         Function evaluations: 319\n",
      "         Gradient evaluations: 29\n",
      "True Optimization terminated successfully.\n",
      "Optimization terminated successfully.\n",
      "         Current function value: 0.000000\n",
      "         Iterations: 23\n",
      "         Function evaluations: 275\n",
      "         Gradient evaluations: 25\n",
      "True Optimization terminated successfully.\n"
     ]
    }
   ],
   "source": [
    "#Optimiser to find Thetas work \n",
    "HL_Veronsi_Calibrated_Thetas, HL_V_Result = calibration_HL(yield_curve=test_yields, periods = 11, r0 = 0.0174 )\n",
    "BDT_Veronsi_Calibrated_Thetas, BDT_V_Result = calibration_BDT(yield_curve=test_yields, periods = 11, r0 = 0.0174)"
   ]
  },
  {
   "cell_type": "code",
   "execution_count": 35,
   "metadata": {},
   "outputs": [
    {
     "data": {
      "text/plain": [
       "np.float64(2.777278530248302e-11)"
      ]
     },
     "execution_count": 35,
     "metadata": {},
     "output_type": "execute_result"
    }
   ],
   "source": [
    "#Error Function (MSE) confirms HL model pricing is accurate\n",
    "Ho_Lee_Model_LossFunction(theta = HL_Veronsi_Calibrated_Thetas, periods = 11, r0 = 0.0174, yield_curve=test_yields)"
   ]
  },
  {
   "cell_type": "code",
   "execution_count": 36,
   "metadata": {},
   "outputs": [
    {
     "data": {
      "text/plain": [
       "np.float64(2.3584272854215594e-12)"
      ]
     },
     "execution_count": 36,
     "metadata": {},
     "output_type": "execute_result"
    }
   ],
   "source": [
    "#Error Function also confirms BDT model is accurate\n",
    "BDT_Model_LossFunction(theta = BDT_Veronsi_Calibrated_Thetas, periods = 11, r0 = 0.0174, volatility = log_vol, yield_curve = test_yields)"
   ]
  },
  {
   "cell_type": "markdown",
   "metadata": {},
   "source": [
    "## Monte Carlo"
   ]
  },
  {
   "cell_type": "markdown",
   "metadata": {},
   "source": [
    "### Simulating MC Interest Rates"
   ]
  },
  {
   "cell_type": "code",
   "execution_count": 342,
   "metadata": {},
   "outputs": [],
   "source": [
    "def monte_carlo_simulation(tree, paths):\n",
    "    #Create simulation table (number of periods x number of simulations)\n",
    "    simulation = np.zeros([paths, tree.shape[0]])\n",
    "    #Set the initial node to interest rate at i = 0\n",
    "    simulation[:, 0] = tree[0,0]\n",
    "    #Loop over each simulation\n",
    "    for path in range(0, simulation.shape[0]):\n",
    "        rate = 0\n",
    "        p = 0\n",
    "        counter = 0\n",
    "\n",
    "        for period in range(1, simulation.shape[1]):\n",
    "            p = np.random.rand() #Random engine\n",
    "\n",
    "            if p > 0.5: #Up move \n",
    "                simulation[path, period] = tree[rate, counter + 1]\n",
    "                rate = rate\n",
    "                counter += 1\n",
    "            else:\n",
    "                simulation[path, period] = tree[rate, counter + 1]\n",
    "                rate = rate + 1\n",
    "                counter += 1\n",
    "    \n",
    "    return simulation"
   ]
  },
  {
   "cell_type": "code",
   "execution_count": null,
   "metadata": {},
   "outputs": [],
   "source": [
    "#BDT Monte Carlo Simulation of Interest Rate Tree\n",
    "MC_BDT = pd.DataFrame(monte_carlo_simulation(tree = BDT_Tree, paths = 100000) * 100)"
   ]
  },
  {
   "cell_type": "code",
   "execution_count": 351,
   "metadata": {},
   "outputs": [],
   "source": [
    "#Ho-Lee Monte Carlo Simulation of Interest Rate Tree\n",
    "MC_HL = pd.DataFrame(monte_carlo_simulation(tree = Ho_Lee_Tree, paths = 100000) * 100)"
   ]
  },
  {
   "cell_type": "code",
   "execution_count": 353,
   "metadata": {},
   "outputs": [],
   "source": [
    "#Index and Columns\n",
    "MC_BDT.index = np.arange(0, 100000)\n",
    "MC_BDT.index.name = 'Simulations'\n",
    "MC_BDT.columns.name = 'Period'\n",
    "MC_HL.index = np.arange(0, 100000)\n",
    "MC_HL.index.name = 'Simulations'\n",
    "MC_HL.columns.name = 'Periods'\n",
    "#Interest Rate Realisations at i = 50\n",
    "MC_BDT_Realisations = MC_BDT.iloc[:, -1]\n",
    "MC_HL_Realisations = MC_HL.iloc[:, -1]\n"
   ]
  },
  {
   "cell_type": "code",
   "execution_count": 312,
   "metadata": {},
   "outputs": [],
   "source": [
    "import matplotlib.pyplot as plt"
   ]
  },
  {
   "cell_type": "code",
   "execution_count": 352,
   "metadata": {},
   "outputs": [
    {
     "data": {
      "text/plain": [
       "<Axes: title={'center': 'Monte Carlo Simulation of 100000 Runs'}, xlabel='Interest Rate', ylabel='Number of Occurences'>"
      ]
     },
     "execution_count": 352,
     "metadata": {},
     "output_type": "execute_result"
    },
    {
     "data": {
      "image/png": "[encoded data removed]",
      "text/plain": [
       "<Figure size 1800x1200 with 1 Axes>"
      ]
     },
     "metadata": {},
     "output_type": "display_data"
    }
   ],
   "source": [
    "MC_BDT_Realisations.plot.hist(\n",
    "    figsize = (18, 12),\n",
    "    xlabel = 'Interest Rate',\n",
    "    ylabel= 'Number of Occurences',\n",
    "    title = f'Monte Carlo Simulation of {N} Runs')"
   ]
  },
  {
   "cell_type": "code",
   "execution_count": 311,
   "metadata": {},
   "outputs": [
    {
     "data": {
      "text/plain": [
       "<Axes: title={'center': '100 Simulations of BDT Tree'}, xlabel='Periods', ylabel='Interest Rate'>"
      ]
     },
     "execution_count": 311,
     "metadata": {},
     "output_type": "execute_result"
    },
    {
     "data": {
      "image/png": "[encoded data removed]",
      "text/plain": [
       "<Figure size 2400x1200 with 1 Axes>"
      ]
     },
     "metadata": {},
     "output_type": "display_data"
    }
   ],
   "source": [
    "fig,ax = plt.subplots(figsize=(24, 12))\n",
    "N = 100\n",
    "MC.plot.hist(ax = ax, legend=None, xlabel = 'Periods', ylabel = 'Interest Rate', title = f'{N} Simulations of BDT Tree')"
   ]
  }
 ],
 "metadata": {
  "kernelspec": {
   "display_name": "Python 3",
   "language": "python",
   "name": "python3"
  },
  "language_info": {
   "codemirror_mode": {
    "name": "ipython",
    "version": 3
   },
   "file_extension": ".py",
   "mimetype": "text/x-python",
   "name": "python",
   "nbconvert_exporter": "python",
   "pygments_lexer": "ipython3",
   "version": "3.9.6"
  }
 },
 "nbformat": 4,
 "nbformat_minor": 2
}
